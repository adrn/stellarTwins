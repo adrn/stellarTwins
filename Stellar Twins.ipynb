{
 "cells": [
  {
   "cell_type": "code",
   "execution_count": null,
   "metadata": {
    "collapsed": false
   },
   "outputs": [],
   "source": [
    "from astropy.io import fits\n",
    "import h5py\n",
    "import numpy as np\n",
    "import matplotlib.pyplot as plt\n",
    "from scipy.spatial import ckdtree as kdtree \n",
    "import itertools\n",
    "%matplotlib inline"
   ]
  },
  {
   "cell_type": "code",
   "execution_count": null,
   "metadata": {
    "collapsed": false
   },
   "outputs": [],
   "source": [
    "#read in TGAS data for and matched sample for magnitudes \n",
    "tgas = fits.getdata(\"stacked_tgas.fits\", 1)\n",
    "tgasRave = fits.getdata('tgas-rave.fits', 1)\n",
    "matchTgasApass = fits.getdata('tgas-matched-apass-dr9.fits')"
   ]
  },
  {
   "cell_type": "code",
   "execution_count": null,
   "metadata": {
    "collapsed": false
   },
   "outputs": [],
   "source": [
    "#print tgasRave.dtype.names\n",
    "print tgas.dtype.names\n",
    "print matchTgasApass.dtype.names"
   ]
  },
  {
   "cell_type": "code",
   "execution_count": null,
   "metadata": {
    "collapsed": false
   },
   "outputs": [],
   "source": [
    "raveInd = np.in1d(tgas['source_id'], tgasRave['source_id'])"
   ]
  },
  {
   "cell_type": "code",
   "execution_count": null,
   "metadata": {
    "collapsed": false,
    "scrolled": false
   },
   "outputs": [],
   "source": [
    "#print np.array(tgas.dtype.names).T\n",
    "#print np.array(tgasRave.dtype.names).T"
   ]
  },
  {
   "cell_type": "code",
   "execution_count": null,
   "metadata": {
    "collapsed": true
   },
   "outputs": [],
   "source": [
    "#read in Adrian's distances from sampling the posterior \n",
    "ndist = 100\n",
    "nfiles = 16\n",
    "dist = None #np.zeros(len(tgasMatched), ndist)\n",
    "for j in range(1,nfiles+1):\n",
    "    with h5py.File(\"distance-samples-{:02d}.hdf5\".format(j)) as f:\n",
    "        if dist is None:\n",
    "            dist = f['distance'][:,:ndist]\n",
    "        else:\n",
    "            dist = np.concatenate((dist, f['distance'][:,:ndist]))"
   ]
  },
  {
   "cell_type": "code",
   "execution_count": null,
   "metadata": {
    "collapsed": true
   },
   "outputs": [],
   "source": [
    "#calculate the median distance from the posterior \n",
    "medianDist = np.median(dist, axis=1)"
   ]
  },
  {
   "cell_type": "code",
   "execution_count": null,
   "metadata": {
    "collapsed": false
   },
   "outputs": [],
   "source": [
    "#various cuts to select sample \n",
    "proj = 'twins'\n",
    "ndist = ndist\n",
    "nNeighbors = 100\n",
    "sigMax = 0.05\n",
    "maxDist = 8000. #1000. #pc\n",
    "fracErrorDistance = 1.\n",
    "\n",
    "if proj ==  'twins':\n",
    "    minDist = 0.0 #pc\n",
    "    parallaxSN = 16.\n",
    "    galacticLatMin = 30. #degrees\n",
    "    galacticLatMax = None #degrees\n",
    "if proj == 'dust':\n",
    "    minDist = 250. #pc\n",
    "    parallaxSN = 5.\n",
    "    galacticLatMin = 0.  #degrees \n",
    "    galacticLatMax = 10. #degrees\n",
    "    \n",
    "mags = ['bmag', 'gmag', 'vmag', 'rmag', 'imag']\n",
    "errors = ['e_bmag', 'e_gmag', 'e_vmag', 'e_rmag', 'e_imag']\n",
    "wavelength = [420., 475., 520., 658., 806.]"
   ]
  },
  {
   "cell_type": "code",
   "execution_count": null,
   "metadata": {
    "collapsed": false
   },
   "outputs": [],
   "source": [
    "#visualize historgrams of parallax errors \n",
    "import matplotlib as mpl\n",
    "mpl.rcParams.update({'font.size': 22})\n",
    "fig, axes = plt.subplots(1, 3, figsize=(20,5))\n",
    "notNan = ~np.isnan(tgas['parallax']) & (tgas['parallax'] > 0.0)\n",
    "nbins=100\n",
    "err = np.sqrt(tgas['parallax_error']**2. + 0.3**2.)\n",
    "out = axes[0].hist(tgas['parallax_error'][notNan], log=True, bins=nbins)\n",
    "out = axes[1].hist(np.log10(tgas['parallax'][notNan]), log=True, bins=nbins)\n",
    "out = axes[2].hist(tgas['parallax'][notNan]/err[notNan], log=True, bins=nbins)\n",
    "\n",
    "axes[0].set_xlabel('Parallax Error')\n",
    "axes[1].set_xlabel('log Parallax')\n",
    "axes[2].set_xlabel('Parallax S/N')"
   ]
  },
  {
   "cell_type": "code",
   "execution_count": null,
   "metadata": {
    "collapsed": false
   },
   "outputs": [],
   "source": [
    "#current cut: no magnitudes are NaNs, 0 < errors < sigMax, \n",
    "#print np.sum(tgas['parallax']/err > parallaxSN)\n",
    "\n",
    "noNans = ~np.isnan(matchTgasApass['bmag']) & ~np.isnan(matchTgasApass['vmag']) & \\\n",
    "         ~np.isnan(matchTgasApass['gmag']) & ~np.isnan(matchTgasApass['rmag']) & \\\n",
    "         ~np.isnan(matchTgasApass['imag'])\n",
    "\n",
    "posErrors = (matchTgasApass['e_bmag'] > 0) & (matchTgasApass['e_vmag'] > 0) & \\\n",
    "            (matchTgasApass['e_gmag'] > 0) & (matchTgasApass['e_rmag'] > 0) & \\\n",
    "            (matchTgasApass['e_imag'] > 0)\n",
    "\n",
    "lowPhotError = (matchTgasApass['e_bmag'] < sigMax) & (matchTgasApass['e_vmag'] < sigMax) & \\\n",
    "               (matchTgasApass['e_gmag'] < sigMax) & (matchTgasApass['e_rmag'] < sigMax) & \\\n",
    "               (matchTgasApass['e_imag'] < sigMax)\n",
    "\n",
    "noDust = (medianDist < maxDist) & (np.abs(tgas['b']) > galacticLatMin)\n",
    "\n",
    "apassMatch = matchTgasApass['matched']\n",
    "\n",
    "goodDistance = tgas['parallax']/err > parallaxSN\n",
    "\n",
    "hasDust = medianDist >= minDist\n",
    "\n",
    "raveInd = raveInd\n",
    "\n",
    "if galacticLatMax: inDisk = np.abs(tgas['b'] <= galacticLatMax)\n",
    "\n",
    "matched = goodDistance & noNans & posErrors & lowPhotError & noDust & apassMatch & raveInd"
   ]
  },
  {
   "cell_type": "code",
   "execution_count": null,
   "metadata": {
    "collapsed": true
   },
   "outputs": [],
   "source": [
    "tgasMatched = tgas[matched]\n",
    "magsMatched = matchTgasApass[matched]\n",
    "errMatched = err[matched]"
   ]
  },
  {
   "cell_type": "code",
   "execution_count": null,
   "metadata": {
    "collapsed": false
   },
   "outputs": [],
   "source": [
    "print 'Number of tgas stars: ', len(tgas)\n",
    "print 'Number of matched stars: ', np.sum(matched)\n",
    "print 'Percent matched = ', 100 - (len(tgas) - np.sum(matched))/np.float(len(tgas))*100., '%'\n",
    "#print np.min(magsMatched['gmag']), np.max(magsMatched['gmag'])"
   ]
  },
  {
   "cell_type": "code",
   "execution_count": null,
   "metadata": {
    "collapsed": false
   },
   "outputs": [],
   "source": [
    "distMatched = dist[matched]\n",
    "distUnmatched = dist[~matched]\n",
    "medianDistMatched = np.median(distMatched, axis=1)\n",
    "meanDistMatched = np.mean(distMatched, axis=1)\n",
    "medianDistUnmatched = np.median(distUnmatched, axis=1)\n",
    "fig, axes = plt.subplots(1,2, figsize=(15, 5))\n",
    "out = axes[0].hist(medianDistMatched/1000., bins=50, log=True)\n",
    "out = axes[1].hist(tgas['parallax'][matched]/err[matched], bins=50, log=True)\n",
    "#out = axes[1].hist(np.log10(tgasMatched['parallax_error']))\n",
    "#out = axes[1].hist(magsMatched['gmag'], bins=50, log=True)\n",
    "axes[0].set_xlabel('Distance [kpc]')\n",
    "axes[1].set_xlabel('S/N')\n",
    "plt.tight_layout()\n",
    "fig.savefig('distanceTgas.png')"
   ]
  },
  {
   "cell_type": "code",
   "execution_count": null,
   "metadata": {
    "collapsed": true
   },
   "outputs": [],
   "source": [
    "def absMag(apparentMag, distance):\n",
    "    return apparentMag - 5.*np.log10(distance/10.)"
   ]
  },
  {
   "cell_type": "code",
   "execution_count": null,
   "metadata": {
    "collapsed": true
   },
   "outputs": [],
   "source": [
    "M_b = absMag(magsMatched['bmag'], medianDistMatched)\n",
    "M_g = absMag(magsMatched['gmag'], medianDistMatched)\n",
    "M_v = absMag(magsMatched['vmag'], medianDistMatched)\n",
    "M_r = absMag(magsMatched['rmag'], medianDistMatched)\n",
    "M_i = absMag(magsMatched['imag'], medianDistMatched)"
   ]
  },
  {
   "cell_type": "code",
   "execution_count": null,
   "metadata": {
    "collapsed": true
   },
   "outputs": [],
   "source": [
    "B_V = magsMatched['bmag'] - magsMatched['vmag']\n",
    "g_r = magsMatched['gmag'] - magsMatched['rmag']\n",
    "r_i = magsMatched['rmag'] - magsMatched['imag']"
   ]
  },
  {
   "cell_type": "code",
   "execution_count": null,
   "metadata": {
    "collapsed": false
   },
   "outputs": [],
   "source": [
    "from matplotlib.colors import LogNorm\n",
    "fig, axes = plt.subplots(2, 3, figsize=(15, 6))\n",
    "axes = axes.ravel()\n",
    "ylabels = ['$M_B$', '$M_G$', '$M_V$', '$M_R$', '$M_I$']\n",
    "bands = [M_b, M_g, M_v, M_r, M_i]\n",
    "for ax, i in zip(axes, np.arange(len(bands))):\n",
    "    out = ax.hist2d(np.log10(medianDistMatched/1000.), bands[i], bins=500, norm=LogNorm(), cmap=plt.get_cmap('gray'))\n",
    "    if i in [3, 4]: ax.set_xlabel('Distance [kpc]', fontsize=15)\n",
    "    ax.set_ylabel(ylabels[i], fontsize=20)\n",
    "    ax.set_xlim(-2, 1)"
   ]
  },
  {
   "cell_type": "code",
   "execution_count": null,
   "metadata": {
    "collapsed": true
   },
   "outputs": [],
   "source": [
    "tree = kdtree.cKDTree(data=zip(M_b, M_g, M_v, M_r, M_i))"
   ]
  },
  {
   "cell_type": "code",
   "execution_count": null,
   "metadata": {
    "collapsed": false
   },
   "outputs": [],
   "source": [
    "treeColor = kdtree.cKDTree(data=zip(M_v, B_V, g_r, r_i))"
   ]
  },
  {
   "cell_type": "code",
   "execution_count": null,
   "metadata": {
    "collapsed": true
   },
   "outputs": [],
   "source": [
    "def chisq(data, value, error):\n",
    "    return np.sqrt(np.sum(((data - value)/error)**2.))/len(data)"
   ]
  },
  {
   "cell_type": "code",
   "execution_count": null,
   "metadata": {
    "collapsed": false
   },
   "outputs": [],
   "source": [
    "import pdb\n",
    "#some magsMatched[matchedInd, sourceInd] have 0.0 error :/\n",
    "\n",
    "def distMetric(sourceInd, matchedInd, p=False):\n",
    "    colorChiSq = 0.0\n",
    "    colors = [B_V, g_r, r_i]\n",
    "    color_errors = [['e_bmag', 'e_vmag'], ['e_gmag', 'e_rmag'], ['e_rmag', 'e_imag']]\n",
    "    for color, error in zip(colors, color_errors):\n",
    "        #print mag, error, sourceInd, matchedInd\n",
    "        colorChiSq += (color[sourceInd] - color[matchedInd])**2./\\\n",
    "                      (magsMatched[error[0]][sourceInd]**2. + magsMatched[error[1]][sourceInd]**2. + \\\n",
    "                       magsMatched[error[0]][matchedInd]**2.+ magsMatched[error[1]][matchedInd]**2.)\n",
    "        if p: print colorChiSq\n",
    "    absMagChiSq = (M_v[sourceInd] - M_v[matchedInd])**2./\\\n",
    "                   (magsMatched['e_vmag'][sourceInd]**2. + magsMatched['e_vmag'][matchedInd]**2. +\\\n",
    "                  (errMatched[sourceInd]*1e-3 *5./np.log(10)*medianDistMatched[sourceInd])**2. +\\\n",
    "                  (errMatched[matchedInd]*1e-3*5./np.log(10)*medianDistMatched[matchedInd])**2.)\n",
    "    totChiSq = np.sqrt(colorChiSq + absMagChiSq)\n",
    "    if p:\n",
    "        print 'the total chi2: ',totChiSq\n",
    "        print 'the color chi2: ' ,colorChiSq\n",
    "        print 'the absmag chi2:',absMagChiSq\n",
    "    #if np.sum(np.isinf(totChiSq)): pdb.set_trace()\n",
    "    return totChiSq"
   ]
  },
  {
   "cell_type": "code",
   "execution_count": null,
   "metadata": {
    "collapsed": false,
    "scrolled": false
   },
   "outputs": [],
   "source": [
    "#check ChiSq are what you think they are, correct length, why inf?\n",
    "sources = []\n",
    "matches = []\n",
    "nstars = 6\n",
    "chisqThreshold = 0.1\n",
    "\n",
    "for star in np.arange(nstars): #np.arange(len(M_v)):\n",
    "    pts = [M_v[star], B_V[star], g_r[star], r_i[star]]\n",
    "    treeDistNum, treeIndNum = treeColor.query(pts, k=200) #nNeighbors)\n",
    "    treeIndNum = treeIndNum[1:]\n",
    "    chisq = distMetric(star, treeIndNum, p=False) \n",
    "    #print chisq\n",
    "    treeIndNum = treeIndNum[chisq < chisqThreshold]\n",
    "    sources.append(star)\n",
    "    matches.append(treeIndNum)"
   ]
  },
  {
   "cell_type": "code",
   "execution_count": null,
   "metadata": {
    "collapsed": false
   },
   "outputs": [],
   "source": [
    "#print sources, matches"
   ]
  },
  {
   "cell_type": "code",
   "execution_count": null,
   "metadata": {
    "collapsed": false
   },
   "outputs": [],
   "source": [
    "#for s, m in zip(sources, matches): print np.sum(np.in1d(tgasRave['source_id'], tgasMatched[s]['source_id'])) + np.sum(np.in1d(tgasRave['source_id'], tgasMatched[m]['source_id']))"
   ]
  },
  {
   "cell_type": "code",
   "execution_count": null,
   "metadata": {
    "collapsed": false
   },
   "outputs": [],
   "source": [
    "#for s, m in zip(sources, matches): print np.where(np.in1d(tgasRave['source_id'], tgasMatched[s])), \\\n",
    "#    np.where(np.in1d(tgasRave['source_id'], tgasMatched[m]['source_id']))"
   ]
  },
  {
   "cell_type": "code",
   "execution_count": null,
   "metadata": {
    "collapsed": false
   },
   "outputs": [],
   "source": [
    "indices = []\n",
    "for s, m in zip(sources, matches): \n",
    "    indices.append(np.concatenate((np.where(np.in1d(tgasRave['source_id'], tgasMatched[s]['source_id']))[0], \\\n",
    "                                   np.where(np.in1d(tgasRave['source_id'], tgasMatched[m]['source_id']))[0])))\n",
    "#print indices"
   ]
  },
  {
   "cell_type": "code",
   "execution_count": null,
   "metadata": {
    "collapsed": false
   },
   "outputs": [],
   "source": [
    "fig, ax = plt.subplots(nstars, 3, figsize=(15, nstars*5))\n",
    "axes = itertools.cycle(ax.ravel())\n",
    "\n",
    "for j in np.arange(len(indices)):\n",
    "    ax = axes.next()\n",
    "    twins = matches[j]\n",
    "    star = sources[j]\n",
    "    raveTwins = indices[j]\n",
    "\n",
    "    ax.set_title(tgasMatched['tycho2_id'][star])\n",
    "    ax.errorbar(B_V[star], g_r[star], \n",
    "                xerr = np.sqrt(magsMatched['e_bmag'][star]**2. + magsMatched['e_vmag'][star]**2.), \n",
    "                yerr = np.sqrt(magsMatched['e_gmag'][star]**2. + magsMatched['e_rmag'][star]**2.), fmt='o', color='black',lw=2)\n",
    "    ax.errorbar(B_V[twins], g_r[twins], \n",
    "                xerr = np.sqrt(magsMatched['e_bmag'][twins]**2. + magsMatched['e_vmag'][twins]**2.), \n",
    "                yerr = np.sqrt(magsMatched['e_gmag'][twins]**2. + magsMatched['e_rmag'][twins]**2.), fmt=None, color='blue')\n",
    "    #ax.scatter(B_V[treeIndNum], g_r[treeIndNum], c=colors, s=200)\n",
    "    ax.scatter(B_V[star], g_r[star], s=400, c='black')\n",
    "    ax.set_xlabel('B - V')\n",
    "    ax.set_ylabel('g - r')\n",
    "\n",
    "    ax = axes.next()\n",
    "    ax.set_title(tgasMatched['tycho2_id'][star])\n",
    "    ax.errorbar(r_i[star], M_v[star], \n",
    "                xerr = np.sqrt(magsMatched['e_rmag'][star]**2. + magsMatched['e_imag'][star]**2.), \n",
    "                yerr = np.sqrt(magsMatched['e_vmag'][star]**2. + \\\n",
    "                               (errMatched[star]*1e-3 *5./np.log(10)*medianDistMatched[star])**2.), fmt='o', color='black')\n",
    "    ax.errorbar(r_i[twins], M_v[twins], \n",
    "                xerr = np.sqrt(magsMatched['e_rmag'][twins]**2. + magsMatched['e_imag'][twins]**2.), \n",
    "                yerr = np.sqrt(magsMatched['e_vmag'][twins]**2. + (errMatched[twins]*1e-3 *5./np.log(10)*medianDistMatched[twins])**2.),\n",
    "                              fmt=None, color='blue')\n",
    "    #ax.scatter(B_V[treeIndNum], M_v[treeIndNum], c=colors, s=100, lw=None)\n",
    "    ax.scatter(r_i[star], M_v[star], s=400, c='black')\n",
    "    ax.set_xlabel('r - i')\n",
    "    ax.set_ylabel('M_v')\n",
    "    \n",
    "    #treeDistDis, treeIndDis = treeColor.query(pts, k=nNeighbors, distance_upper_bound=errDistance)\n",
    "    #if not np.array_equal(treeIndNum, treeIndDis): print treeIndNum, treeIndDis\n",
    "    #import pdb; pdb.set_trace()    \n",
    "    \n",
    "    #if star<10:print chisq\n",
    "    ax = axes.next()\n",
    "    ax.set_title(tgasMatched['tycho2_id'][s])\n",
    "    ax.errorbar(tgasRave['TEFF'][raveTwins]/1000., tgasRave['LOGG'][raveTwins], xerr=tgasRave['E_TEFF'][raveTwins]/1000., yerr=tgasRave['E_LOGG'][raveTwins],\n",
    "               fmt='o', color='black')\n",
    "    ax.set_ylabel('log g', fontsize=15)\n",
    "    ax.set_xlabel('Teff [kK]', fontsize=15)\n",
    "    ax.set_xlim(4.5, 7)\n",
    "    ax.set_ylim(3, 5)\n",
    "    ax.grid()\n",
    "plt.tight_layout()"
   ]
  },
  {
   "cell_type": "code",
   "execution_count": null,
   "metadata": {
    "collapsed": false,
    "scrolled": false
   },
   "outputs": [],
   "source": [
    "import matplotlib as mpl\n",
    "mpl.rcParams.update({'font.size': 25}) \n",
    "for j, i in enumerate(indices):\n",
    "    fig, ax = plt.subplots(figsize=(5, 5))\n",
    "    ax.errorbar(tgasRave['TEFF'][i]/1000., tgasRave['LOGG'][i], xerr=tgasRave['E_TEFF'][i]/1000., yerr=tgasRave['E_LOGG'][i],\n",
    "               fmt='o', color='black')\n",
    "    ax.set_ylabel('log g')\n",
    "    ax.set_xlabel('Teff [kK]')\n",
    "    ax.set_xticks([5, 6, 7])\n",
    "    ax.set_xlim(4.5, 7)\n",
    "    ax.set_ylim(3, 5)\n",
    "    ax.grid()\n",
    "    plt.tight_layout()\n",
    "    fig.savefig('stellarTwins.' + str(j) + '.png')"
   ]
  },
  {
   "cell_type": "code",
   "execution_count": null,
   "metadata": {
    "collapsed": false
   },
   "outputs": [],
   "source": [
    "for i in indices:\n",
    "    for j in i:\n",
    "        text = 'Tycho2 Id: ' + str(tgasRave[j]['tycho2_id']) + '\\n' + \\\n",
    "       'pmra: ' + \"{:.2f}\".format(np.float(tgasRave[j]['pmra'])) + '\\n' + \\\n",
    "       'pmdc: ' + \"{:.2f}\".format(np.float(tgasRave[j]['pmdec'])) + '\\n' + \\\n",
    "       'vrad: ' + \"{:.2f}\".format(np.float(tgasRave[j]['HRV']))\n",
    "        print text"
   ]
  },
  {
   "cell_type": "code",
   "execution_count": null,
   "metadata": {
    "collapsed": true
   },
   "outputs": [],
   "source": []
  }
 ],
 "metadata": {
  "anaconda-cloud": {},
  "kernelspec": {
   "display_name": "Python [default]",
   "language": "python",
   "name": "python2"
  },
  "language_info": {
   "codemirror_mode": {
    "name": "ipython",
    "version": 2
   },
   "file_extension": ".py",
   "mimetype": "text/x-python",
   "name": "python",
   "nbconvert_exporter": "python",
   "pygments_lexer": "ipython2",
   "version": "2.7.12"
  }
 },
 "nbformat": 4,
 "nbformat_minor": 1
}
